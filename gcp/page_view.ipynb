{
 "cells": [
  {
   "cell_type": "code",
   "execution_count": null,
   "metadata": {},
   "outputs": [],
   "source": [
    "# Paths\n",
    "# Using user page views (as opposed to spiders and automated traffic) for the \n",
    "# month of August 2021\n",
    "pv_path = 'https://dumps.wikimedia.org/other/pageview_complete/monthly/2021/2021-08/pageviews-202108-user.bz2'\n",
    "p = Path(pv_path) \n",
    "pv_name = p.name\n",
    "pv_temp = f'{p.stem}-4dedup.txt'\n",
    "pv_clean = f'{p.stem}.pkl'\n",
    "# Download the file (2.3GB) \n",
    "!wget -N $pv_path\n",
    "# Filter for English pages, and keep just two fields: article ID (3) and monthly \n",
    "# total number of page views (5). Then, remove lines with article id or page \n",
    "# view values that are not a sequence of digits.\n",
    "!bzcat $pv_name | grep \"^en\\.wikipedia\" | cut -d' ' -f3,5 | grep -P \"^\\d+\\s\\d+$\" > $pv_temp\n",
    "# Create a Counter (dictionary) that sums up the pages views for the same \n",
    "# article, resulting in a mapping from article id to total page views.\n",
    "wid2pv = Counter()\n",
    "with open(pv_temp, 'rt') as f:\n",
    "  for line in f:\n",
    "    parts = line.split(' ')\n",
    "    wid2pv.update({int(parts[0]): int(parts[1])})\n",
    "# write out the counter as binary file (pickle it)\n",
    "with open(pv_clean, 'wb') as f:\n",
    "  pickle.dump(wid2pv, f)\n",
    "# read in the counter\n",
    "# with open(pv_clean, 'rb') as f:\n",
    "#   wid2pv = pickle.loads(f.read())"
   ]
  },
  {
   "cell_type": "code",
   "execution_count": null,
   "metadata": {},
   "outputs": [],
   "source": [
    "def get_pageview(wids):\n",
    "  ''' Returns the number of page views that each of the provide wiki articles\n",
    "      had in August 2021.\n",
    "  Args:\n",
    "  -----\n",
    "    wids (list of ints): list of wiki article IDs\n",
    "  Returns:\n",
    "  --------\n",
    "    list of ints:\n",
    "      list of page view numbers from August 2021 that correrspond to the \n",
    "      provided list article IDs.\n",
    "  '''\n",
    "  # BEGIN SOLUTION\n",
    "  return [wid2pv[wid] for wid in wids]\n",
    "  # END SOLUTION"
   ]
  }
 ],
 "metadata": {
  "kernelspec": {
   "display_name": "Python 3",
   "language": "python",
   "name": "python3"
  },
  "language_info": {
   "name": "python",
   "version": "3.8.2 (tags/v3.8.2:7b3ab59, Feb 25 2020, 22:45:29) [MSC v.1916 32 bit (Intel)]"
  },
  "orig_nbformat": 4,
  "vscode": {
   "interpreter": {
    "hash": "ea1b65f1f50d3133a59955f088514173f2a74424e575cd41e12c93cda310070e"
   }
  }
 },
 "nbformat": 4,
 "nbformat_minor": 2
}
