{
 "cells": [
  {
   "cell_type": "code",
   "execution_count": null,
   "metadata": {},
   "outputs": [],
   "source": [
    "url = ''"
   ]
  },
  {
   "attachments": {},
   "cell_type": "markdown",
   "metadata": {},
   "source": [
    "## Evaluation Metrics"
   ]
  },
  {
   "cell_type": "code",
   "execution_count": null,
   "metadata": {},
   "outputs": [],
   "source": [
    "def k_precision(true, pred, k=40):\n",
    "    \"\"\"\n",
    "    Compute precision at k\n",
    "    \"\"\"\n",
    "    return len(set(true) & set(pred[:k])) / k"
   ]
  },
  {
   "cell_type": "code",
   "execution_count": null,
   "metadata": {},
   "outputs": [],
   "source": [
    "def mean_average_precision(true, pred, k=40):\n",
    "    \"\"\"\n",
    "    Compute mean average precision at k\n",
    "    \"\"\"\n",
    "    score = 0.0\n",
    "    num_hits = 0.0\n",
    "\n",
    "    for i, p in enumerate(pred[:k]):\n",
    "        if p in true and p not in pred[:i]:\n",
    "            num_hits += 1.0\n",
    "            score += num_hits / (i + 1.0)\n",
    "\n",
    "    if not true:\n",
    "        return 0.0\n",
    "\n",
    "    return score / min(len(true), k) "
   ]
  },
  {
   "cell_type": "code",
   "execution_count": null,
   "metadata": {},
   "outputs": [],
   "source": [
    "def r_precision(true, pred):\n",
    "    \"\"\"\n",
    "    Compute precision at r\n",
    "    \"\"\"\n",
    "    return len(set(true) & set(pred)) / len(true)"
   ]
  },
  {
   "cell_type": "code",
   "execution_count": null,
   "metadata": {},
   "outputs": [],
   "source": [
    "def f_measure(true, pred, k=40):\n",
    "    \"\"\"\n",
    "    Compute f-measure at k\n",
    "    \"\"\"\n",
    "    p = k_precision(true, pred, k)\n",
    "    r = r_precision(true, pred)\n",
    "    return 2 * p * r / (p + r)"
   ]
  },
  {
   "cell_type": "code",
   "execution_count": null,
   "metadata": {},
   "outputs": [],
   "source": [
    "def evaluate(true, pred, k=40):\n",
    "    \"\"\"\n",
    "    Compute precision, recall and f-measure at k\n",
    "    \"\"\"\n",
    "    p = k_precision(true, pred, k)\n",
    "    r = r_precision(true, pred)\n",
    "    f = f_measure(true, pred, k)\n",
    "    s = mean_average_precision(true, pred, k)\n",
    "\n",
    "    return f'k_precision: {p}, r_precision: {r}, f_measure: {f}, MAP@K: {s}'"
   ]
  },
  {
   "attachments": {},
   "cell_type": "markdown",
   "metadata": {},
   "source": [
    "## test queries with MAP"
   ]
  },
  {
   "cell_type": "code",
   "execution_count": null,
   "metadata": {},
   "outputs": [],
   "source": [
    "import json\n",
    "import requests\n",
    "import time"
   ]
  },
  {
   "cell_type": "code",
   "execution_count": null,
   "metadata": {},
   "outputs": [],
   "source": [
    "with open('queries_train.json', 'rt') as f:\n",
    "  queries = json.load(f)"
   ]
  },
  {
   "cell_type": "code",
   "execution_count": null,
   "metadata": {},
   "outputs": [],
   "source": [
    "query_res = []\n",
    "pred_wid = {}\n",
    "total_duration = 0\n",
    "avg_duration = 0\n",
    "map_40 = True\n",
    "\n",
    "for i, wids in enumerate(queries):\n",
    "    start = time.time()\n",
    "    try:\n",
    "        r = requests.get(url + '/search', {'query': i}, timeout=35)\n",
    "        duration = time.time() - start\n",
    "        if duration:\n",
    "            duration_under_35 = True\n",
    "        total_duration += duration\n",
    "        avg_duration = total_duration / (i + 1)\n",
    "        print(f'Query {i} took {duration:.2f} seconds. Average duration: {avg_duration:.2f} seconds.')\n",
    "        if r.status_code == 200:\n",
    "            map_40 = mean_average_precision(wids, r.json())\n",
    "            if map_40  < 0.25:\n",
    "                map_40 = False\n",
    "    except:\n",
    "        pass\n",
    "\n",
    "print('duration less than 35 seconds:', duration_under_35)\n",
    "print('map@40:', map_40)\n",
    "print('average duration:', avg_duration)\n",
    "        "
   ]
  },
  {
   "cell_type": "code",
   "execution_count": null,
   "metadata": {},
   "outputs": [],
   "source": []
  }
 ],
 "metadata": {
  "kernelspec": {
   "display_name": "Python 3",
   "language": "python",
   "name": "python3"
  },
  "language_info": {
   "name": "python",
   "version": "3.8.2 (tags/v3.8.2:7b3ab59, Feb 25 2020, 22:45:29) [MSC v.1916 32 bit (Intel)]"
  },
  "orig_nbformat": 4,
  "vscode": {
   "interpreter": {
    "hash": "ea1b65f1f50d3133a59955f088514173f2a74424e575cd41e12c93cda310070e"
   }
  }
 },
 "nbformat": 4,
 "nbformat_minor": 2
}
